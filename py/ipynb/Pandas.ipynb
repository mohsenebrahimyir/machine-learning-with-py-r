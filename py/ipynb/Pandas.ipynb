{
 "cells": [
  {
   "cell_type": "markdown",
   "metadata": {},
   "source": [
    "# Pandas"
   ]
  },
  {
   "cell_type": "code",
   "execution_count": 4,
   "metadata": {},
   "outputs": [],
   "source": [
    "import pandas as pd\n",
    "import numpy as np"
   ]
  },
  {
   "cell_type": "code",
   "execution_count": 6,
   "metadata": {},
   "outputs": [
    {
     "data": {
      "text/plain": [
       "0       1\n",
       "1       2\n",
       "2       3\n",
       "3    jadi\n",
       "4       0\n",
       "5     NaN\n",
       "6      -1\n",
       "dtype: object"
      ]
     },
     "execution_count": 6,
     "metadata": {},
     "output_type": "execute_result"
    }
   ],
   "source": [
    "pd.Series([1,2,3, 'jadi', 0, np.nan, -1])"
   ]
  },
  {
   "cell_type": "code",
   "execution_count": 10,
   "metadata": {},
   "outputs": [
    {
     "data": {
      "text/plain": [
       "DatetimeIndex(['2021-01-01', '2021-01-02', '2021-01-03', '2021-01-04',\n",
       "               '2021-01-05', '2021-01-06'],\n",
       "              dtype='datetime64[ns]', freq='D')"
      ]
     },
     "execution_count": 10,
     "metadata": {},
     "output_type": "execute_result"
    }
   ],
   "source": [
    "dates = pd.date_range(\"20210101\", periods=6)\n",
    "dates"
   ]
  },
  {
   "cell_type": "code",
   "execution_count": 13,
   "metadata": {},
   "outputs": [
    {
     "data": {
      "text/plain": [
       "array([[ 1.00076577, -1.12191301, -0.07519044,  0.01039303],\n",
       "       [-0.21432663,  0.59632683, -0.43922072,  0.18174457],\n",
       "       [ 0.22965407, -0.30082675, -0.31837493,  0.53229639],\n",
       "       [-1.86420943, -1.60417157,  0.24284198, -1.48418259],\n",
       "       [-0.71446245, -1.20570903,  0.47219997,  0.34639358],\n",
       "       [ 0.52063144,  1.03632505,  0.64436489, -0.93535429]])"
      ]
     },
     "execution_count": 13,
     "metadata": {},
     "output_type": "execute_result"
    }
   ],
   "source": [
    "np.random.randn(6, 4)"
   ]
  },
  {
   "cell_type": "code",
   "execution_count": 22,
   "metadata": {
    "scrolled": false
   },
   "outputs": [
    {
     "data": {
      "text/html": [
       "<div>\n",
       "<style scoped>\n",
       "    .dataframe tbody tr th:only-of-type {\n",
       "        vertical-align: middle;\n",
       "    }\n",
       "\n",
       "    .dataframe tbody tr th {\n",
       "        vertical-align: top;\n",
       "    }\n",
       "\n",
       "    .dataframe thead th {\n",
       "        text-align: right;\n",
       "    }\n",
       "</style>\n",
       "<table border=\"1\" class=\"dataframe\">\n",
       "  <thead>\n",
       "    <tr style=\"text-align: right;\">\n",
       "      <th></th>\n",
       "      <th>A</th>\n",
       "      <th>B</th>\n",
       "      <th>C</th>\n",
       "      <th>D</th>\n",
       "    </tr>\n",
       "  </thead>\n",
       "  <tbody>\n",
       "    <tr>\n",
       "      <th>2021-01-01</th>\n",
       "      <td>-0.127621</td>\n",
       "      <td>0.089565</td>\n",
       "      <td>1.953672</td>\n",
       "      <td>0.437813</td>\n",
       "    </tr>\n",
       "    <tr>\n",
       "      <th>2021-01-02</th>\n",
       "      <td>-0.420844</td>\n",
       "      <td>-0.245051</td>\n",
       "      <td>0.189711</td>\n",
       "      <td>-0.344652</td>\n",
       "    </tr>\n",
       "    <tr>\n",
       "      <th>2021-01-03</th>\n",
       "      <td>0.512969</td>\n",
       "      <td>-0.839389</td>\n",
       "      <td>-0.551133</td>\n",
       "      <td>-1.742437</td>\n",
       "    </tr>\n",
       "    <tr>\n",
       "      <th>2021-01-04</th>\n",
       "      <td>-0.385857</td>\n",
       "      <td>-0.581673</td>\n",
       "      <td>-0.579605</td>\n",
       "      <td>0.509468</td>\n",
       "    </tr>\n",
       "    <tr>\n",
       "      <th>2021-01-05</th>\n",
       "      <td>2.661093</td>\n",
       "      <td>-0.025486</td>\n",
       "      <td>-0.479381</td>\n",
       "      <td>-0.548437</td>\n",
       "    </tr>\n",
       "    <tr>\n",
       "      <th>2021-01-06</th>\n",
       "      <td>0.427096</td>\n",
       "      <td>-0.274514</td>\n",
       "      <td>-0.344881</td>\n",
       "      <td>1.086411</td>\n",
       "    </tr>\n",
       "  </tbody>\n",
       "</table>\n",
       "</div>"
      ],
      "text/plain": [
       "                   A         B         C         D\n",
       "2021-01-01 -0.127621  0.089565  1.953672  0.437813\n",
       "2021-01-02 -0.420844 -0.245051  0.189711 -0.344652\n",
       "2021-01-03  0.512969 -0.839389 -0.551133 -1.742437\n",
       "2021-01-04 -0.385857 -0.581673 -0.579605  0.509468\n",
       "2021-01-05  2.661093 -0.025486 -0.479381 -0.548437\n",
       "2021-01-06  0.427096 -0.274514 -0.344881  1.086411"
      ]
     },
     "execution_count": 22,
     "metadata": {},
     "output_type": "execute_result"
    }
   ],
   "source": [
    "df = pd.DataFrame(np.random.randn(6, 4),\n",
    "                  index=dates, \n",
    "                  columns=['A', 'B', 'C', 'D'])\n",
    "df"
   ]
  },
  {
   "cell_type": "code",
   "execution_count": 20,
   "metadata": {
    "scrolled": true
   },
   "outputs": [
    {
     "data": {
      "text/plain": [
       "A    float64\n",
       "b    float64\n",
       "c    float64\n",
       "d    float64\n",
       "dtype: object"
      ]
     },
     "execution_count": 20,
     "metadata": {},
     "output_type": "execute_result"
    }
   ],
   "source": [
    "df.dtypes"
   ]
  },
  {
   "cell_type": "code",
   "execution_count": 21,
   "metadata": {},
   "outputs": [
    {
     "data": {
      "text/plain": [
       "2021-01-01    1.571094\n",
       "2021-01-02    1.247788\n",
       "2021-01-03   -2.595912\n",
       "2021-01-04    2.416555\n",
       "2021-01-05   -1.548033\n",
       "2021-01-06   -1.284087\n",
       "Freq: D, Name: A, dtype: float64"
      ]
     },
     "execution_count": 21,
     "metadata": {},
     "output_type": "execute_result"
    }
   ],
   "source": [
    "df['A']"
   ]
  },
  {
   "cell_type": "code",
   "execution_count": 24,
   "metadata": {
    "scrolled": true
   },
   "outputs": [
    {
     "data": {
      "text/html": [
       "<div>\n",
       "<style scoped>\n",
       "    .dataframe tbody tr th:only-of-type {\n",
       "        vertical-align: middle;\n",
       "    }\n",
       "\n",
       "    .dataframe tbody tr th {\n",
       "        vertical-align: top;\n",
       "    }\n",
       "\n",
       "    .dataframe thead th {\n",
       "        text-align: right;\n",
       "    }\n",
       "</style>\n",
       "<table border=\"1\" class=\"dataframe\">\n",
       "  <thead>\n",
       "    <tr style=\"text-align: right;\">\n",
       "      <th></th>\n",
       "      <th>A</th>\n",
       "      <th>B</th>\n",
       "      <th>C</th>\n",
       "      <th>D</th>\n",
       "    </tr>\n",
       "  </thead>\n",
       "  <tbody>\n",
       "    <tr>\n",
       "      <th>2021-01-01</th>\n",
       "      <td>-0.127621</td>\n",
       "      <td>0.089565</td>\n",
       "      <td>1.953672</td>\n",
       "      <td>0.437813</td>\n",
       "    </tr>\n",
       "    <tr>\n",
       "      <th>2021-01-02</th>\n",
       "      <td>-0.420844</td>\n",
       "      <td>-0.245051</td>\n",
       "      <td>0.189711</td>\n",
       "      <td>-0.344652</td>\n",
       "    </tr>\n",
       "  </tbody>\n",
       "</table>\n",
       "</div>"
      ],
      "text/plain": [
       "                   A         B         C         D\n",
       "2021-01-01 -0.127621  0.089565  1.953672  0.437813\n",
       "2021-01-02 -0.420844 -0.245051  0.189711 -0.344652"
      ]
     },
     "execution_count": 24,
     "metadata": {},
     "output_type": "execute_result"
    }
   ],
   "source": [
    "df.head(2)"
   ]
  },
  {
   "cell_type": "code",
   "execution_count": 25,
   "metadata": {},
   "outputs": [
    {
     "data": {
      "text/html": [
       "<div>\n",
       "<style scoped>\n",
       "    .dataframe tbody tr th:only-of-type {\n",
       "        vertical-align: middle;\n",
       "    }\n",
       "\n",
       "    .dataframe tbody tr th {\n",
       "        vertical-align: top;\n",
       "    }\n",
       "\n",
       "    .dataframe thead th {\n",
       "        text-align: right;\n",
       "    }\n",
       "</style>\n",
       "<table border=\"1\" class=\"dataframe\">\n",
       "  <thead>\n",
       "    <tr style=\"text-align: right;\">\n",
       "      <th></th>\n",
       "      <th>A</th>\n",
       "      <th>B</th>\n",
       "      <th>C</th>\n",
       "      <th>D</th>\n",
       "    </tr>\n",
       "  </thead>\n",
       "  <tbody>\n",
       "    <tr>\n",
       "      <th>2021-01-05</th>\n",
       "      <td>2.661093</td>\n",
       "      <td>-0.025486</td>\n",
       "      <td>-0.479381</td>\n",
       "      <td>-0.548437</td>\n",
       "    </tr>\n",
       "    <tr>\n",
       "      <th>2021-01-06</th>\n",
       "      <td>0.427096</td>\n",
       "      <td>-0.274514</td>\n",
       "      <td>-0.344881</td>\n",
       "      <td>1.086411</td>\n",
       "    </tr>\n",
       "  </tbody>\n",
       "</table>\n",
       "</div>"
      ],
      "text/plain": [
       "                   A         B         C         D\n",
       "2021-01-05  2.661093 -0.025486 -0.479381 -0.548437\n",
       "2021-01-06  0.427096 -0.274514 -0.344881  1.086411"
      ]
     },
     "execution_count": 25,
     "metadata": {},
     "output_type": "execute_result"
    }
   ],
   "source": [
    "df.tail(2)"
   ]
  },
  {
   "cell_type": "code",
   "execution_count": 28,
   "metadata": {},
   "outputs": [
    {
     "data": {
      "text/html": [
       "<div>\n",
       "<style scoped>\n",
       "    .dataframe tbody tr th:only-of-type {\n",
       "        vertical-align: middle;\n",
       "    }\n",
       "\n",
       "    .dataframe tbody tr th {\n",
       "        vertical-align: top;\n",
       "    }\n",
       "\n",
       "    .dataframe thead th {\n",
       "        text-align: right;\n",
       "    }\n",
       "</style>\n",
       "<table border=\"1\" class=\"dataframe\">\n",
       "  <thead>\n",
       "    <tr style=\"text-align: right;\">\n",
       "      <th></th>\n",
       "      <th>A</th>\n",
       "      <th>B</th>\n",
       "      <th>C</th>\n",
       "      <th>D</th>\n",
       "    </tr>\n",
       "  </thead>\n",
       "  <tbody>\n",
       "    <tr>\n",
       "      <th>count</th>\n",
       "      <td>6.000000</td>\n",
       "      <td>6.000000</td>\n",
       "      <td>6.000000</td>\n",
       "      <td>6.000000</td>\n",
       "    </tr>\n",
       "    <tr>\n",
       "      <th>mean</th>\n",
       "      <td>0.444473</td>\n",
       "      <td>-0.312758</td>\n",
       "      <td>0.031397</td>\n",
       "      <td>-0.100305</td>\n",
       "    </tr>\n",
       "    <tr>\n",
       "      <th>std</th>\n",
       "      <td>1.156193</td>\n",
       "      <td>0.346436</td>\n",
       "      <td>0.983397</td>\n",
       "      <td>1.002678</td>\n",
       "    </tr>\n",
       "    <tr>\n",
       "      <th>min</th>\n",
       "      <td>-0.420844</td>\n",
       "      <td>-0.839389</td>\n",
       "      <td>-0.579605</td>\n",
       "      <td>-1.742437</td>\n",
       "    </tr>\n",
       "    <tr>\n",
       "      <th>25%</th>\n",
       "      <td>-0.321298</td>\n",
       "      <td>-0.504883</td>\n",
       "      <td>-0.533195</td>\n",
       "      <td>-0.497491</td>\n",
       "    </tr>\n",
       "    <tr>\n",
       "      <th>50%</th>\n",
       "      <td>0.149737</td>\n",
       "      <td>-0.259782</td>\n",
       "      <td>-0.412131</td>\n",
       "      <td>0.046581</td>\n",
       "    </tr>\n",
       "    <tr>\n",
       "      <th>75%</th>\n",
       "      <td>0.491501</td>\n",
       "      <td>-0.080378</td>\n",
       "      <td>0.056063</td>\n",
       "      <td>0.491555</td>\n",
       "    </tr>\n",
       "    <tr>\n",
       "      <th>max</th>\n",
       "      <td>2.661093</td>\n",
       "      <td>0.089565</td>\n",
       "      <td>1.953672</td>\n",
       "      <td>1.086411</td>\n",
       "    </tr>\n",
       "  </tbody>\n",
       "</table>\n",
       "</div>"
      ],
      "text/plain": [
       "              A         B         C         D\n",
       "count  6.000000  6.000000  6.000000  6.000000\n",
       "mean   0.444473 -0.312758  0.031397 -0.100305\n",
       "std    1.156193  0.346436  0.983397  1.002678\n",
       "min   -0.420844 -0.839389 -0.579605 -1.742437\n",
       "25%   -0.321298 -0.504883 -0.533195 -0.497491\n",
       "50%    0.149737 -0.259782 -0.412131  0.046581\n",
       "75%    0.491501 -0.080378  0.056063  0.491555\n",
       "max    2.661093  0.089565  1.953672  1.086411"
      ]
     },
     "execution_count": 28,
     "metadata": {},
     "output_type": "execute_result"
    }
   ],
   "source": [
    "df.describe()"
   ]
  },
  {
   "cell_type": "code",
   "execution_count": 30,
   "metadata": {},
   "outputs": [
    {
     "data": {
      "text/plain": [
       "A   -0.274232\n",
       "B   -0.077743\n",
       "C    1.071692\n",
       "D    0.046581\n",
       "dtype: float64"
      ]
     },
     "execution_count": 30,
     "metadata": {},
     "output_type": "execute_result"
    }
   ],
   "source": [
    "df[\"A\"].mean()"
   ]
  },
  {
   "cell_type": "code",
   "execution_count": 31,
   "metadata": {},
   "outputs": [
    {
     "data": {
      "text/html": [
       "<div>\n",
       "<style scoped>\n",
       "    .dataframe tbody tr th:only-of-type {\n",
       "        vertical-align: middle;\n",
       "    }\n",
       "\n",
       "    .dataframe tbody tr th {\n",
       "        vertical-align: top;\n",
       "    }\n",
       "\n",
       "    .dataframe thead th {\n",
       "        text-align: right;\n",
       "    }\n",
       "</style>\n",
       "<table border=\"1\" class=\"dataframe\">\n",
       "  <thead>\n",
       "    <tr style=\"text-align: right;\">\n",
       "      <th></th>\n",
       "      <th>2021-01-01</th>\n",
       "      <th>2021-01-02</th>\n",
       "      <th>2021-01-03</th>\n",
       "      <th>2021-01-04</th>\n",
       "      <th>2021-01-05</th>\n",
       "      <th>2021-01-06</th>\n",
       "    </tr>\n",
       "  </thead>\n",
       "  <tbody>\n",
       "    <tr>\n",
       "      <th>A</th>\n",
       "      <td>-0.127621</td>\n",
       "      <td>-0.420844</td>\n",
       "      <td>0.512969</td>\n",
       "      <td>-0.385857</td>\n",
       "      <td>2.661093</td>\n",
       "      <td>0.427096</td>\n",
       "    </tr>\n",
       "    <tr>\n",
       "      <th>B</th>\n",
       "      <td>0.089565</td>\n",
       "      <td>-0.245051</td>\n",
       "      <td>-0.839389</td>\n",
       "      <td>-0.581673</td>\n",
       "      <td>-0.025486</td>\n",
       "      <td>-0.274514</td>\n",
       "    </tr>\n",
       "    <tr>\n",
       "      <th>C</th>\n",
       "      <td>1.953672</td>\n",
       "      <td>0.189711</td>\n",
       "      <td>-0.551133</td>\n",
       "      <td>-0.579605</td>\n",
       "      <td>-0.479381</td>\n",
       "      <td>-0.344881</td>\n",
       "    </tr>\n",
       "    <tr>\n",
       "      <th>D</th>\n",
       "      <td>0.437813</td>\n",
       "      <td>-0.344652</td>\n",
       "      <td>-1.742437</td>\n",
       "      <td>0.509468</td>\n",
       "      <td>-0.548437</td>\n",
       "      <td>1.086411</td>\n",
       "    </tr>\n",
       "  </tbody>\n",
       "</table>\n",
       "</div>"
      ],
      "text/plain": [
       "   2021-01-01  2021-01-02  2021-01-03  2021-01-04  2021-01-05  2021-01-06\n",
       "A   -0.127621   -0.420844    0.512969   -0.385857    2.661093    0.427096\n",
       "B    0.089565   -0.245051   -0.839389   -0.581673   -0.025486   -0.274514\n",
       "C    1.953672    0.189711   -0.551133   -0.579605   -0.479381   -0.344881\n",
       "D    0.437813   -0.344652   -1.742437    0.509468   -0.548437    1.086411"
      ]
     },
     "execution_count": 31,
     "metadata": {},
     "output_type": "execute_result"
    }
   ],
   "source": [
    "df.T"
   ]
  },
  {
   "cell_type": "code",
   "execution_count": 33,
   "metadata": {},
   "outputs": [
    {
     "data": {
      "text/html": [
       "<div>\n",
       "<style scoped>\n",
       "    .dataframe tbody tr th:only-of-type {\n",
       "        vertical-align: middle;\n",
       "    }\n",
       "\n",
       "    .dataframe tbody tr th {\n",
       "        vertical-align: top;\n",
       "    }\n",
       "\n",
       "    .dataframe thead th {\n",
       "        text-align: right;\n",
       "    }\n",
       "</style>\n",
       "<table border=\"1\" class=\"dataframe\">\n",
       "  <thead>\n",
       "    <tr style=\"text-align: right;\">\n",
       "      <th></th>\n",
       "      <th>A</th>\n",
       "      <th>B</th>\n",
       "      <th>C</th>\n",
       "      <th>D</th>\n",
       "    </tr>\n",
       "  </thead>\n",
       "  <tbody>\n",
       "    <tr>\n",
       "      <th>2021-01-03</th>\n",
       "      <td>0.512969</td>\n",
       "      <td>-0.839389</td>\n",
       "      <td>-0.551133</td>\n",
       "      <td>-1.742437</td>\n",
       "    </tr>\n",
       "    <tr>\n",
       "      <th>2021-01-04</th>\n",
       "      <td>-0.385857</td>\n",
       "      <td>-0.581673</td>\n",
       "      <td>-0.579605</td>\n",
       "      <td>0.509468</td>\n",
       "    </tr>\n",
       "    <tr>\n",
       "      <th>2021-01-06</th>\n",
       "      <td>0.427096</td>\n",
       "      <td>-0.274514</td>\n",
       "      <td>-0.344881</td>\n",
       "      <td>1.086411</td>\n",
       "    </tr>\n",
       "    <tr>\n",
       "      <th>2021-01-02</th>\n",
       "      <td>-0.420844</td>\n",
       "      <td>-0.245051</td>\n",
       "      <td>0.189711</td>\n",
       "      <td>-0.344652</td>\n",
       "    </tr>\n",
       "    <tr>\n",
       "      <th>2021-01-05</th>\n",
       "      <td>2.661093</td>\n",
       "      <td>-0.025486</td>\n",
       "      <td>-0.479381</td>\n",
       "      <td>-0.548437</td>\n",
       "    </tr>\n",
       "    <tr>\n",
       "      <th>2021-01-01</th>\n",
       "      <td>-0.127621</td>\n",
       "      <td>0.089565</td>\n",
       "      <td>1.953672</td>\n",
       "      <td>0.437813</td>\n",
       "    </tr>\n",
       "  </tbody>\n",
       "</table>\n",
       "</div>"
      ],
      "text/plain": [
       "                   A         B         C         D\n",
       "2021-01-03  0.512969 -0.839389 -0.551133 -1.742437\n",
       "2021-01-04 -0.385857 -0.581673 -0.579605  0.509468\n",
       "2021-01-06  0.427096 -0.274514 -0.344881  1.086411\n",
       "2021-01-02 -0.420844 -0.245051  0.189711 -0.344652\n",
       "2021-01-05  2.661093 -0.025486 -0.479381 -0.548437\n",
       "2021-01-01 -0.127621  0.089565  1.953672  0.437813"
      ]
     },
     "execution_count": 33,
     "metadata": {},
     "output_type": "execute_result"
    }
   ],
   "source": [
    "df.sort_values(by=\"B\")"
   ]
  },
  {
   "cell_type": "code",
   "execution_count": 34,
   "metadata": {},
   "outputs": [
    {
     "data": {
      "text/html": [
       "<div>\n",
       "<style scoped>\n",
       "    .dataframe tbody tr th:only-of-type {\n",
       "        vertical-align: middle;\n",
       "    }\n",
       "\n",
       "    .dataframe tbody tr th {\n",
       "        vertical-align: top;\n",
       "    }\n",
       "\n",
       "    .dataframe thead th {\n",
       "        text-align: right;\n",
       "    }\n",
       "</style>\n",
       "<table border=\"1\" class=\"dataframe\">\n",
       "  <thead>\n",
       "    <tr style=\"text-align: right;\">\n",
       "      <th></th>\n",
       "      <th>A</th>\n",
       "      <th>B</th>\n",
       "      <th>C</th>\n",
       "      <th>D</th>\n",
       "    </tr>\n",
       "  </thead>\n",
       "  <tbody>\n",
       "    <tr>\n",
       "      <th>2021-01-03</th>\n",
       "      <td>0.512969</td>\n",
       "      <td>-0.839389</td>\n",
       "      <td>-0.551133</td>\n",
       "      <td>-1.742437</td>\n",
       "    </tr>\n",
       "    <tr>\n",
       "      <th>2021-01-05</th>\n",
       "      <td>2.661093</td>\n",
       "      <td>-0.025486</td>\n",
       "      <td>-0.479381</td>\n",
       "      <td>-0.548437</td>\n",
       "    </tr>\n",
       "    <tr>\n",
       "      <th>2021-01-06</th>\n",
       "      <td>0.427096</td>\n",
       "      <td>-0.274514</td>\n",
       "      <td>-0.344881</td>\n",
       "      <td>1.086411</td>\n",
       "    </tr>\n",
       "  </tbody>\n",
       "</table>\n",
       "</div>"
      ],
      "text/plain": [
       "                   A         B         C         D\n",
       "2021-01-03  0.512969 -0.839389 -0.551133 -1.742437\n",
       "2021-01-05  2.661093 -0.025486 -0.479381 -0.548437\n",
       "2021-01-06  0.427096 -0.274514 -0.344881  1.086411"
      ]
     },
     "execution_count": 34,
     "metadata": {},
     "output_type": "execute_result"
    }
   ],
   "source": [
    "df[df[\"A\"] > 0]"
   ]
  },
  {
   "cell_type": "markdown",
   "metadata": {},
   "source": [
    "## read and write oprations"
   ]
  },
  {
   "cell_type": "markdown",
   "metadata": {},
   "source": [
    "### CSV"
   ]
  },
  {
   "cell_type": "code",
   "execution_count": 66,
   "metadata": {},
   "outputs": [],
   "source": [
    "df.to_csv(\"myfile.csv\")"
   ]
  },
  {
   "cell_type": "code",
   "execution_count": 67,
   "metadata": {},
   "outputs": [
    {
     "data": {
      "text/html": [
       "<div>\n",
       "<style scoped>\n",
       "    .dataframe tbody tr th:only-of-type {\n",
       "        vertical-align: middle;\n",
       "    }\n",
       "\n",
       "    .dataframe tbody tr th {\n",
       "        vertical-align: top;\n",
       "    }\n",
       "\n",
       "    .dataframe thead th {\n",
       "        text-align: right;\n",
       "    }\n",
       "</style>\n",
       "<table border=\"1\" class=\"dataframe\">\n",
       "  <thead>\n",
       "    <tr style=\"text-align: right;\">\n",
       "      <th></th>\n",
       "      <th>A</th>\n",
       "      <th>B</th>\n",
       "      <th>C</th>\n",
       "      <th>D</th>\n",
       "    </tr>\n",
       "  </thead>\n",
       "  <tbody>\n",
       "    <tr>\n",
       "      <th>2021-01-01</th>\n",
       "      <td>-0.127621</td>\n",
       "      <td>0.089565</td>\n",
       "      <td>1.953672</td>\n",
       "      <td>0.437813</td>\n",
       "    </tr>\n",
       "    <tr>\n",
       "      <th>2021-01-02</th>\n",
       "      <td>-0.420844</td>\n",
       "      <td>-0.245051</td>\n",
       "      <td>0.189711</td>\n",
       "      <td>-0.344652</td>\n",
       "    </tr>\n",
       "    <tr>\n",
       "      <th>2021-01-03</th>\n",
       "      <td>0.512969</td>\n",
       "      <td>-0.839389</td>\n",
       "      <td>-0.551133</td>\n",
       "      <td>-1.742437</td>\n",
       "    </tr>\n",
       "    <tr>\n",
       "      <th>2021-01-04</th>\n",
       "      <td>-0.385857</td>\n",
       "      <td>-0.581673</td>\n",
       "      <td>-0.579605</td>\n",
       "      <td>0.509468</td>\n",
       "    </tr>\n",
       "    <tr>\n",
       "      <th>2021-01-05</th>\n",
       "      <td>2.661093</td>\n",
       "      <td>-0.025486</td>\n",
       "      <td>-0.479381</td>\n",
       "      <td>-0.548437</td>\n",
       "    </tr>\n",
       "    <tr>\n",
       "      <th>2021-01-06</th>\n",
       "      <td>0.427096</td>\n",
       "      <td>-0.274514</td>\n",
       "      <td>-0.344881</td>\n",
       "      <td>1.086411</td>\n",
       "    </tr>\n",
       "  </tbody>\n",
       "</table>\n",
       "</div>"
      ],
      "text/plain": [
       "                   A         B         C         D\n",
       "2021-01-01 -0.127621  0.089565  1.953672  0.437813\n",
       "2021-01-02 -0.420844 -0.245051  0.189711 -0.344652\n",
       "2021-01-03  0.512969 -0.839389 -0.551133 -1.742437\n",
       "2021-01-04 -0.385857 -0.581673 -0.579605  0.509468\n",
       "2021-01-05  2.661093 -0.025486 -0.479381 -0.548437\n",
       "2021-01-06  0.427096 -0.274514 -0.344881  1.086411"
      ]
     },
     "execution_count": 67,
     "metadata": {},
     "output_type": "execute_result"
    }
   ],
   "source": [
    "pd.read_csv(\"myfile.csv\", index_col=0)"
   ]
  },
  {
   "cell_type": "markdown",
   "metadata": {},
   "source": [
    "### XLSX"
   ]
  },
  {
   "cell_type": "code",
   "execution_count": 68,
   "metadata": {},
   "outputs": [],
   "source": [
    "df.to_excel(\"myfile.xlsx\")"
   ]
  },
  {
   "cell_type": "code",
   "execution_count": 70,
   "metadata": {},
   "outputs": [
    {
     "data": {
      "text/html": [
       "<div>\n",
       "<style scoped>\n",
       "    .dataframe tbody tr th:only-of-type {\n",
       "        vertical-align: middle;\n",
       "    }\n",
       "\n",
       "    .dataframe tbody tr th {\n",
       "        vertical-align: top;\n",
       "    }\n",
       "\n",
       "    .dataframe thead th {\n",
       "        text-align: right;\n",
       "    }\n",
       "</style>\n",
       "<table border=\"1\" class=\"dataframe\">\n",
       "  <thead>\n",
       "    <tr style=\"text-align: right;\">\n",
       "      <th></th>\n",
       "      <th>A</th>\n",
       "      <th>B</th>\n",
       "      <th>C</th>\n",
       "      <th>D</th>\n",
       "    </tr>\n",
       "  </thead>\n",
       "  <tbody>\n",
       "    <tr>\n",
       "      <th>2021-01-01</th>\n",
       "      <td>-0.127621</td>\n",
       "      <td>0.089565</td>\n",
       "      <td>1.953672</td>\n",
       "      <td>0.437813</td>\n",
       "    </tr>\n",
       "    <tr>\n",
       "      <th>2021-01-02</th>\n",
       "      <td>-0.420844</td>\n",
       "      <td>-0.245051</td>\n",
       "      <td>0.189711</td>\n",
       "      <td>-0.344652</td>\n",
       "    </tr>\n",
       "    <tr>\n",
       "      <th>2021-01-03</th>\n",
       "      <td>0.512969</td>\n",
       "      <td>-0.839389</td>\n",
       "      <td>-0.551133</td>\n",
       "      <td>-1.742437</td>\n",
       "    </tr>\n",
       "    <tr>\n",
       "      <th>2021-01-04</th>\n",
       "      <td>-0.385857</td>\n",
       "      <td>-0.581673</td>\n",
       "      <td>-0.579605</td>\n",
       "      <td>0.509468</td>\n",
       "    </tr>\n",
       "    <tr>\n",
       "      <th>2021-01-05</th>\n",
       "      <td>2.661093</td>\n",
       "      <td>-0.025486</td>\n",
       "      <td>-0.479381</td>\n",
       "      <td>-0.548437</td>\n",
       "    </tr>\n",
       "    <tr>\n",
       "      <th>2021-01-06</th>\n",
       "      <td>0.427096</td>\n",
       "      <td>-0.274514</td>\n",
       "      <td>-0.344881</td>\n",
       "      <td>1.086411</td>\n",
       "    </tr>\n",
       "  </tbody>\n",
       "</table>\n",
       "</div>"
      ],
      "text/plain": [
       "                   A         B         C         D\n",
       "2021-01-01 -0.127621  0.089565  1.953672  0.437813\n",
       "2021-01-02 -0.420844 -0.245051  0.189711 -0.344652\n",
       "2021-01-03  0.512969 -0.839389 -0.551133 -1.742437\n",
       "2021-01-04 -0.385857 -0.581673 -0.579605  0.509468\n",
       "2021-01-05  2.661093 -0.025486 -0.479381 -0.548437\n",
       "2021-01-06  0.427096 -0.274514 -0.344881  1.086411"
      ]
     },
     "execution_count": 70,
     "metadata": {},
     "output_type": "execute_result"
    }
   ],
   "source": [
    "pd.read_excel(\"myfile.xlsx\", index_col=0)"
   ]
  },
  {
   "cell_type": "code",
   "execution_count": null,
   "metadata": {},
   "outputs": [],
   "source": []
  }
 ],
 "metadata": {
  "kernelspec": {
   "display_name": "Python 3",
   "language": "python",
   "name": "python3"
  },
  "language_info": {
   "codemirror_mode": {
    "name": "ipython",
    "version": 3
   },
   "file_extension": ".py",
   "mimetype": "text/x-python",
   "name": "python",
   "nbconvert_exporter": "python",
   "pygments_lexer": "ipython3",
   "version": "3.8.12"
  }
 },
 "nbformat": 4,
 "nbformat_minor": 2
}
